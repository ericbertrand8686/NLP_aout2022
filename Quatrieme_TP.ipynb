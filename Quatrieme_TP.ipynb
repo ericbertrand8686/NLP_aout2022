{
 "cells": [
  {
   "cell_type": "code",
   "execution_count": 2,
   "id": "a0d36bb6",
   "metadata": {},
   "outputs": [
    {
     "name": "stderr",
     "output_type": "stream",
     "text": [
      "e:\\Eric\\Simplon\\NLP_aout2022\\nlp\\lib\\site-packages\\tqdm\\auto.py:22: TqdmWarning: IProgress not found. Please update jupyter and ipywidgets. See https://ipywidgets.readthedocs.io/en/stable/user_install.html\n",
      "  from .autonotebook import tqdm as notebook_tqdm\n"
     ]
    },
    {
     "name": "stdout",
     "output_type": "stream",
     "text": [
      "✔ Download and installation successful\n",
      "You can now load the package via spacy.load('en_core_web_sm')\n"
     ]
    }
   ],
   "source": [
    "# !pip install spacy gensim sentence_transformers\n",
    "\n",
    "import spacy\n",
    "spacy.cli.download(\"en_core_web_sm\")"
   ]
  },
  {
   "cell_type": "code",
   "execution_count": 3,
   "id": "617434e6",
   "metadata": {},
   "outputs": [],
   "source": [
    "from collections import Counter\n",
    "\n",
    "import numpy as np\n",
    "import pandas as pd\n",
    "import matplotlib.pyplot as plt\n",
    "import seaborn as sns\n",
    "import gensim\n",
    "\n",
    "from sklearn.preprocessing import LabelEncoder\n",
    "from sklearn.model_selection import train_test_split\n",
    "from sklearn.pipeline import Pipeline\n",
    "from sklearn.preprocessing import StandardScaler\n",
    "from sklearn.svm import LinearSVC\n",
    "from sklearn.feature_extraction.text import CountVectorizer, TfidfVectorizer\n",
    "from sklearn.model_selection import GridSearchCV, cross_val_score\n",
    "\n",
    "from gensim.models.word2vec import Word2Vec\n",
    "import gensim.downloader\n",
    "from sentence_transformers import SentenceTransformer"
   ]
  },
  {
   "cell_type": "code",
   "execution_count": 4,
   "id": "55ded3a7",
   "metadata": {},
   "outputs": [
    {
     "data": {
      "text/html": [
       "<div>\n",
       "<style scoped>\n",
       "    .dataframe tbody tr th:only-of-type {\n",
       "        vertical-align: middle;\n",
       "    }\n",
       "\n",
       "    .dataframe tbody tr th {\n",
       "        vertical-align: top;\n",
       "    }\n",
       "\n",
       "    .dataframe thead th {\n",
       "        text-align: right;\n",
       "    }\n",
       "</style>\n",
       "<table border=\"1\" class=\"dataframe\">\n",
       "  <thead>\n",
       "    <tr style=\"text-align: right;\">\n",
       "      <th></th>\n",
       "      <th>id</th>\n",
       "      <th>text</th>\n",
       "      <th>author</th>\n",
       "    </tr>\n",
       "  </thead>\n",
       "  <tbody>\n",
       "    <tr>\n",
       "      <th>0</th>\n",
       "      <td>id26305</td>\n",
       "      <td>This process, however, afforded me no means of...</td>\n",
       "      <td>EAP</td>\n",
       "    </tr>\n",
       "    <tr>\n",
       "      <th>1</th>\n",
       "      <td>id17569</td>\n",
       "      <td>It never once occurred to me that the fumbling...</td>\n",
       "      <td>HPL</td>\n",
       "    </tr>\n",
       "    <tr>\n",
       "      <th>2</th>\n",
       "      <td>id11008</td>\n",
       "      <td>In his left hand was a gold snuff box, from wh...</td>\n",
       "      <td>EAP</td>\n",
       "    </tr>\n",
       "    <tr>\n",
       "      <th>3</th>\n",
       "      <td>id27763</td>\n",
       "      <td>How lovely is spring As we looked from Windsor...</td>\n",
       "      <td>MWS</td>\n",
       "    </tr>\n",
       "    <tr>\n",
       "      <th>4</th>\n",
       "      <td>id12958</td>\n",
       "      <td>Finding nothing else, not even gold, the Super...</td>\n",
       "      <td>HPL</td>\n",
       "    </tr>\n",
       "  </tbody>\n",
       "</table>\n",
       "</div>"
      ],
      "text/plain": [
       "        id                                               text author\n",
       "0  id26305  This process, however, afforded me no means of...    EAP\n",
       "1  id17569  It never once occurred to me that the fumbling...    HPL\n",
       "2  id11008  In his left hand was a gold snuff box, from wh...    EAP\n",
       "3  id27763  How lovely is spring As we looked from Windsor...    MWS\n",
       "4  id12958  Finding nothing else, not even gold, the Super...    HPL"
      ]
     },
     "execution_count": 4,
     "metadata": {},
     "output_type": "execute_result"
    }
   ],
   "source": [
    "data_url = 'https://github.com/GU4243-ADS/spring2018-project1-ginnyqg/raw/master/data/spooky.csv'\n",
    "spooky_df = pd.read_csv(data_url)\n",
    "spooky_df.head()"
   ]
  },
  {
   "cell_type": "code",
   "execution_count": 5,
   "id": "98f90eda",
   "metadata": {},
   "outputs": [],
   "source": [
    "nlp = spacy.load('en_core_web_sm')"
   ]
  },
  {
   "cell_type": "code",
   "execution_count": 6,
   "id": "48c8f795",
   "metadata": {},
   "outputs": [],
   "source": [
    "def clean_docs(texts, remove_stopwords=False, n_process = 4):\n",
    "    \n",
    "    docs = nlp.pipe(texts, \n",
    "                    n_process=n_process,\n",
    "                    disable=['parser', 'ner',\n",
    "                             'lemmatizer', 'textcat'])\n",
    "    stopwords = nlp.Defaults.stop_words\n",
    "\n",
    "    docs_cleaned = []\n",
    "    for doc in docs:\n",
    "        tokens = [tok.text.lower().strip() for tok in doc if not tok.is_punct]\n",
    "        if remove_stopwords:\n",
    "            tokens = [tok for tok in tokens if tok not in stopwords]\n",
    "        doc_clean = ' '.join(tokens)\n",
    "        docs_cleaned.append(doc_clean)\n",
    "        \n",
    "    return docs_cleaned"
   ]
  },
  {
   "cell_type": "code",
   "execution_count": 7,
   "id": "ccf1353c",
   "metadata": {},
   "outputs": [
    {
     "data": {
      "text/html": [
       "<div>\n",
       "<style scoped>\n",
       "    .dataframe tbody tr th:only-of-type {\n",
       "        vertical-align: middle;\n",
       "    }\n",
       "\n",
       "    .dataframe tbody tr th {\n",
       "        vertical-align: top;\n",
       "    }\n",
       "\n",
       "    .dataframe thead th {\n",
       "        text-align: right;\n",
       "    }\n",
       "</style>\n",
       "<table border=\"1\" class=\"dataframe\">\n",
       "  <thead>\n",
       "    <tr style=\"text-align: right;\">\n",
       "      <th></th>\n",
       "      <th>id</th>\n",
       "      <th>text</th>\n",
       "      <th>author</th>\n",
       "      <th>text_clean</th>\n",
       "    </tr>\n",
       "  </thead>\n",
       "  <tbody>\n",
       "    <tr>\n",
       "      <th>0</th>\n",
       "      <td>id26305</td>\n",
       "      <td>This process, however, afforded me no means of...</td>\n",
       "      <td>EAP</td>\n",
       "      <td>this process however afforded me no means of a...</td>\n",
       "    </tr>\n",
       "    <tr>\n",
       "      <th>1</th>\n",
       "      <td>id17569</td>\n",
       "      <td>It never once occurred to me that the fumbling...</td>\n",
       "      <td>HPL</td>\n",
       "      <td>it never once occurred to me that the fumbling...</td>\n",
       "    </tr>\n",
       "    <tr>\n",
       "      <th>2</th>\n",
       "      <td>id11008</td>\n",
       "      <td>In his left hand was a gold snuff box, from wh...</td>\n",
       "      <td>EAP</td>\n",
       "      <td>in his left hand was a gold snuff box from whi...</td>\n",
       "    </tr>\n",
       "    <tr>\n",
       "      <th>3</th>\n",
       "      <td>id27763</td>\n",
       "      <td>How lovely is spring As we looked from Windsor...</td>\n",
       "      <td>MWS</td>\n",
       "      <td>how lovely is spring as we looked from windsor...</td>\n",
       "    </tr>\n",
       "    <tr>\n",
       "      <th>4</th>\n",
       "      <td>id12958</td>\n",
       "      <td>Finding nothing else, not even gold, the Super...</td>\n",
       "      <td>HPL</td>\n",
       "      <td>finding nothing else not even gold the superin...</td>\n",
       "    </tr>\n",
       "  </tbody>\n",
       "</table>\n",
       "</div>"
      ],
      "text/plain": [
       "        id                                               text author  \\\n",
       "0  id26305  This process, however, afforded me no means of...    EAP   \n",
       "1  id17569  It never once occurred to me that the fumbling...    HPL   \n",
       "2  id11008  In his left hand was a gold snuff box, from wh...    EAP   \n",
       "3  id27763  How lovely is spring As we looked from Windsor...    MWS   \n",
       "4  id12958  Finding nothing else, not even gold, the Super...    HPL   \n",
       "\n",
       "                                          text_clean  \n",
       "0  this process however afforded me no means of a...  \n",
       "1  it never once occurred to me that the fumbling...  \n",
       "2  in his left hand was a gold snuff box from whi...  \n",
       "3  how lovely is spring as we looked from windsor...  \n",
       "4  finding nothing else not even gold the superin...  "
      ]
     },
     "execution_count": 7,
     "metadata": {},
     "output_type": "execute_result"
    }
   ],
   "source": [
    "spooky_df['text_clean'] = clean_docs(spooky_df['text'])\n",
    "spooky_df.head()"
   ]
  },
  {
   "cell_type": "code",
   "execution_count": 8,
   "id": "2f8793db",
   "metadata": {},
   "outputs": [
    {
     "data": {
      "text/plain": [
       "array(['EAP', 'HPL', 'MWS'], dtype=object)"
      ]
     },
     "execution_count": 8,
     "metadata": {},
     "output_type": "execute_result"
    }
   ],
   "source": [
    "le = LabelEncoder()\n",
    "spooky_df['author_encoded'] = le.fit_transform(spooky_df['author'])\n",
    "le.classes_"
   ]
  },
  {
   "cell_type": "code",
   "execution_count": 9,
   "id": "a22cb284",
   "metadata": {},
   "outputs": [],
   "source": [
    "X_train, X_test, y_train, y_test = train_test_split(spooky_df['text_clean'].values, \n",
    "                                                    spooky_df['author_encoded'].values, \n",
    "                                                    test_size=0.2, \n",
    "                                                    random_state=33,\n",
    "                                                    stratify = spooky_df['author_encoded'].values)"
   ]
  },
  {
   "cell_type": "code",
   "execution_count": 10,
   "id": "c457a77c",
   "metadata": {},
   "outputs": [
    {
     "name": "stdout",
     "output_type": "stream",
     "text": [
      "40.349869118304284\n",
      "40.34729315628192\n"
     ]
    }
   ],
   "source": [
    "print(100*y_train.tolist().count(0)/(len(y_train)))\n",
    "print(100*y_test.tolist().count(0)/(len(y_test)))"
   ]
  },
  {
   "cell_type": "code",
   "execution_count": 20,
   "id": "82a0257f",
   "metadata": {},
   "outputs": [
    {
     "data": {
      "text/plain": [
       "'for the first time during many hours or perhaps days i thought'"
      ]
     },
     "execution_count": 20,
     "metadata": {},
     "output_type": "execute_result"
    }
   ],
   "source": [
    "X_train[0]"
   ]
  },
  {
   "cell_type": "code",
   "execution_count": 19,
   "id": "a94e0f39",
   "metadata": {},
   "outputs": [
    {
     "name": "stdout",
     "output_type": "stream",
     "text": [
      "0 EAP\n"
     ]
    }
   ],
   "source": [
    "print(y_train[0], le.inverse_transform([y_train[0]])[0])"
   ]
  },
  {
   "cell_type": "code",
   "execution_count": 21,
   "id": "29a5652d",
   "metadata": {},
   "outputs": [
    {
     "data": {
      "text/plain": [
       "<AxesSubplot:>"
      ]
     },
     "execution_count": 21,
     "metadata": {},
     "output_type": "execute_result"
    },
    {
     "data": {
      "image/png": "[encoded data removed]",
      "text/plain": [
       "<Figure size 432x288 with 1 Axes>"
      ]
     },
     "metadata": {
      "needs_background": "light"
     },
     "output_type": "display_data"
    }
   ],
   "source": [
    "fig = pd.Series(le.inverse_transform(y_train)).value_counts().plot(kind='bar')\n",
    "fig"
   ]
  },
  {
   "cell_type": "code",
   "execution_count": 22,
   "id": "3e4b3f9d",
   "metadata": {},
   "outputs": [],
   "source": [
    "# Suppression des stop words\n",
    "X_train_no_sw = clean_docs(X_train, remove_stopwords=True)\n",
    "X_train_no_sw = np.array(X_train_no_sw)"
   ]
  },
  {
   "cell_type": "code",
   "execution_count": 36,
   "id": "4dccb396",
   "metadata": {},
   "outputs": [],
   "source": [
    "def plot_top_words(initials, ax, n_words=20):\n",
    "    # Calcul des mots les plus fréquemment utilisés par l'auteur\n",
    "    texts = X_train_no_sw[le.inverse_transform(y_train) == initials]\n",
    "    all_tokens = ' '.join(texts).split()\n",
    "    counts = Counter(all_tokens)\n",
    "    top_words = [word[0] for word in counts.most_common(n_words)]\n",
    "    top_words_counts = [word[1] for word in counts.most_common(n_words)]\n",
    "    \n",
    "    # Représentation sous forme de barplot\n",
    "    ax = sns.barplot(ax = ax, x=top_words, y=top_words_counts)\n",
    "    ax.set_title(f'Most Common Words used by {initials_to_author[initials]}')"
   ]
  },
  {
   "cell_type": "code",
   "execution_count": 37,
   "id": "9aabdd0f",
   "metadata": {},
   "outputs": [
    {
     "data": {
      "image/png": "[encoded data removed]",
      "text/plain": [
       "<Figure size 864x864 with 3 Axes>"
      ]
     },
     "metadata": {
      "needs_background": "light"
     },
     "output_type": "display_data"
    }
   ],
   "source": [
    "initials_to_author = {\n",
    "    'EAP': 'Edgar Allen Poe',\n",
    "    'HPL': 'H.P. Lovecraft',\n",
    "    'MWS': 'Mary Wollstonecraft Shelley'\n",
    "}\n",
    "\n",
    "fig, axs = plt.subplots(3, 1, figsize = (12,12))\n",
    "\n",
    "plot_top_words('EAP', ax = axs[0])\n",
    "plot_top_words('HPL', ax = axs[1])\n",
    "plot_top_words('MWS', ax = axs[2])"
   ]
  },
  {
   "cell_type": "code",
   "execution_count": 38,
   "id": "ecd57c3e",
   "metadata": {},
   "outputs": [],
   "source": [
    "# Prédiction sur le set d'entrainement\n",
    "clf = LinearSVC(max_iter=10000, C=0.1)"
   ]
  },
  {
   "cell_type": "code",
   "execution_count": 41,
   "id": "4370b7ac",
   "metadata": {},
   "outputs": [],
   "source": [
    "def fit_vectorizers(vectorizer):\n",
    "    pipeline = Pipeline(\n",
    "    [\n",
    "        (\"vect\", vectorizer()),\n",
    "        (\"scaling\", StandardScaler(with_mean=False)),\n",
    "        (\"clf\", clf),\n",
    "    ]\n",
    "    )\n",
    "\n",
    "    parameters = {\n",
    "        \"vect__ngram_range\": ((1, 1), (1, 2)),  # unigrams or bigrams\n",
    "        \"vect__stop_words\": (\"english\", None)\n",
    "    }\n",
    "\n",
    "    grid_search = GridSearchCV(pipeline, parameters, scoring='f1_micro',\n",
    "                               cv=4, n_jobs=4, verbose=1)\n",
    "    grid_search.fit(X_train, y_train)\n",
    "\n",
    "    best_parameters = grid_search.best_estimator_.get_params()\n",
    "    for param_name in sorted(parameters.keys()):\n",
    "        print(\"\\t%s: %r\" % (param_name, best_parameters[param_name]))\n",
    "\n",
    "    print(f\"CV scores {grid_search.cv_results_['mean_test_score']}\")\n",
    "    print(f\"Mean F1 {np.mean(grid_search.cv_results_['mean_test_score'])}\")\n",
    "    \n",
    "    return grid_search"
   ]
  },
  {
   "cell_type": "code",
   "execution_count": 40,
   "id": "68eefb42",
   "metadata": {},
   "outputs": [
    {
     "name": "stdout",
     "output_type": "stream",
     "text": [
      "Fitting 4 folds for each of 4 candidates, totalling 16 fits\n",
      "\tvect__ngram_range: (1, 2)\n",
      "\tvect__stop_words: None\n",
      "CV scores [0.65613231 0.68467074 0.59318236 0.78152334]\n",
      "Mean F1 0.6788771863997067\n"
     ]
    }
   ],
   "source": [
    "cv_bow = fit_vectorizers(CountVectorizer)"
   ]
  },
  {
   "cell_type": "code",
   "execution_count": 42,
   "id": "2f28aa5c",
   "metadata": {},
   "outputs": [
    {
     "name": "stdout",
     "output_type": "stream",
     "text": [
      "GridSearchCV(cv=4,\n",
      "             estimator=Pipeline(steps=[('vect', CountVectorizer()),\n",
      "                                       ('scaling',\n",
      "                                        StandardScaler(with_mean=False)),\n",
      "                                       ('clf',\n",
      "                                        LinearSVC(C=0.1, max_iter=10000))]),\n",
      "             n_jobs=4,\n",
      "             param_grid={'vect__ngram_range': ((1, 1), (1, 2)),\n",
      "                         'vect__stop_words': ('english', None)},\n",
      "             scoring='f1_micro', verbose=1)\n"
     ]
    }
   ],
   "source": [
    "print(cv_bow)"
   ]
  },
  {
   "cell_type": "code",
   "execution_count": 43,
   "id": "7746118d",
   "metadata": {},
   "outputs": [
    {
     "name": "stdout",
     "output_type": "stream",
     "text": [
      "Fitting 4 folds for each of 4 candidates, totalling 16 fits\n",
      "\tvect__ngram_range: (1, 2)\n",
      "\tvect__stop_words: None\n",
      "CV scores [0.68486264 0.72438203 0.75381483 0.80852971]\n",
      "Mean F1 0.7428973032990371\n"
     ]
    }
   ],
   "source": [
    "cv_tfidf = fit_vectorizers(TfidfVectorizer)"
   ]
  },
  {
   "cell_type": "code",
   "execution_count": 44,
   "id": "128157a5",
   "metadata": {},
   "outputs": [],
   "source": [
    "X_train_tokens = [text.split() for text in X_train]\n",
    "w2v_model = Word2Vec(X_train_tokens, vector_size=200, window=5, \n",
    "                     min_count=1, workers=4)"
   ]
  },
  {
   "cell_type": "code",
   "execution_count": 64,
   "id": "bce2962a",
   "metadata": {},
   "outputs": [
    {
     "data": {
      "text/plain": [
       "[('brother', 0.9885303378105164),\n",
       " ('own', 0.9870707392692566),\n",
       " ('daughter', 0.9846564531326294),\n",
       " ('earnest', 0.9841771125793457),\n",
       " ('countenance', 0.9829790592193604),\n",
       " ('sister', 0.9829391241073608),\n",
       " ('gesture', 0.9824192523956299),\n",
       " ('soul', 0.9822794795036316),\n",
       " ('wife', 0.9819296002388),\n",
       " ('services', 0.9792946577072144)]"
      ]
     },
     "execution_count": 64,
     "metadata": {},
     "output_type": "execute_result"
    }
   ],
   "source": [
    "w2v_model.wv.most_similar('mother')"
   ]
  },
  {
   "cell_type": "code",
   "execution_count": 65,
   "id": "ff321278",
   "metadata": {},
   "outputs": [
    {
     "data": {
      "text/plain": [
       "[('day', 0.9761525392532349),\n",
       " ('same', 0.9752716422080994),\n",
       " ('morning', 0.9739955067634583),\n",
       " ('first', 0.972938060760498),\n",
       " ('house', 0.97020423412323),\n",
       " ('noon', 0.9699417352676392),\n",
       " ('autumn', 0.9676735997200012),\n",
       " ('sight', 0.9669336676597595),\n",
       " ('painting', 0.965823769569397),\n",
       " ('meantime', 0.9651690125465393)]"
      ]
     },
     "execution_count": 65,
     "metadata": {},
     "output_type": "execute_result"
    }
   ],
   "source": [
    "w2v_model.wv.most_similar('night')"
   ]
  },
  {
   "cell_type": "code",
   "execution_count": 54,
   "id": "394651ed",
   "metadata": {},
   "outputs": [],
   "source": [
    "def get_mean_vector(w2v_vectors, words):\n",
    "    words = [word for word in words if word in w2v_vectors]\n",
    "    if words:\n",
    "        avg_vector = np.mean(w2v_vectors[words], axis=0)\n",
    "    else:\n",
    "        avg_vector = np.zeros_like(w2v_vectors['hi'])\n",
    "    return avg_vector\n",
    "\n",
    "def fit_w2v_avg(w2v_vectors):\n",
    "    X_train_vectors = np.array([get_mean_vector(w2v_vectors, words)\n",
    "                                for words in X_train_tokens])\n",
    "    \n",
    "    scores = cross_val_score(clf, X_train_vectors, y_train, \n",
    "                         cv=4, scoring='f1_micro', n_jobs=4)\n",
    "\n",
    "    print(f\"CV scores {scores}\")\n",
    "    print(f\"Mean F1 {np.mean(scores)}\")\n",
    "    return scores"
   ]
  },
  {
   "cell_type": "code",
   "execution_count": 55,
   "id": "9beca741",
   "metadata": {},
   "outputs": [
    {
     "name": "stdout",
     "output_type": "stream",
     "text": [
      "CV scores [0.56230848 0.55311542 0.55081716 0.56628352]\n",
      "Mean F1 0.5581311468031732\n"
     ]
    }
   ],
   "source": [
    "cv_w2vec = fit_w2v_avg(w2v_model.wv)"
   ]
  },
  {
   "cell_type": "code",
   "execution_count": 56,
   "id": "28a21aab",
   "metadata": {},
   "outputs": [
    {
     "name": "stdout",
     "output_type": "stream",
     "text": [
      "[==================================================] 100.0% 252.1/252.1MB downloaded\n"
     ]
    }
   ],
   "source": [
    "glove_model = gensim.downloader.load('glove-wiki-gigaword-200')"
   ]
  },
  {
   "cell_type": "code",
   "execution_count": 57,
   "id": "ea953897",
   "metadata": {},
   "outputs": [
    {
     "data": {
      "text/plain": [
       "array([-0.49346  , -0.14768  ,  0.32166  ,  0.056899 ,  0.052572 ,\n",
       "        0.20192  , -0.13506  , -0.030793 ,  0.15614  , -0.23004  ,\n",
       "       -0.66376  , -0.27316  ,  0.10391  ,  0.57334  , -0.032355 ,\n",
       "       -0.32766  , -0.2716   ,  0.32919  ,  0.41305  , -0.18085  ,\n",
       "        1.5167   ,  2.1649   , -0.10278  ,  0.098019 , -0.018946 ,\n",
       "        0.027292 , -0.7948   ,  0.36631  , -0.33151  ,  0.2884   ,\n",
       "        0.10436  , -0.19166  ,  0.27326  , -0.17519  , -0.14986  ,\n",
       "       -0.072333 , -0.54371  , -0.29728  ,  0.081491 , -0.42673  ,\n",
       "       -0.36406  , -0.52035  ,  0.18455  ,  0.44121  , -0.32196  ,\n",
       "        0.39172  ,  0.11952  ,  0.36979  ,  0.29229  , -0.42954  ,\n",
       "        0.46653  , -0.067243 ,  0.31216  , -0.17216  ,  0.48874  ,\n",
       "        0.2803   , -0.17577  , -0.35101  ,  0.020792 ,  0.15974  ,\n",
       "        0.21927  , -0.32499  ,  0.086022 ,  0.38927  , -0.65638  ,\n",
       "       -0.67401  , -0.41896  ,  1.2709   ,  0.20857  ,  0.28315  ,\n",
       "        0.58238  , -0.14944  ,  0.3989   ,  0.52681  ,  0.35714  ,\n",
       "       -0.39101  , -0.55372  , -0.56642  , -0.15762  , -0.48004  ,\n",
       "        0.40448  ,  0.057518 , -1.0157   ,  0.21755  ,  0.073296 ,\n",
       "        0.15237  , -0.38362  , -0.75308  , -0.0060254, -0.26232  ,\n",
       "       -0.54102  , -0.34347  ,  0.11113  ,  0.47685  , -0.7323   ,\n",
       "        0.77597  ,  0.015216 , -0.66327  , -0.21144  , -0.42964  ,\n",
       "       -0.7269   , -0.067968 ,  0.50601  ,  0.039817 , -0.27584  ,\n",
       "       -0.34794  , -0.0474   ,  0.50734  , -0.30777  ,  0.11594  ,\n",
       "       -0.19211  ,  0.3107   , -0.60075  ,  0.22044  , -0.36265  ,\n",
       "       -0.59442  , -1.2046   ,  0.10619  , -0.60278  ,  0.21573  ,\n",
       "       -0.35362  ,  0.55473  ,  0.58094  ,  0.077259 ,  1.0776   ,\n",
       "       -0.1867   , -1.5168   ,  0.32418  ,  0.83333  ,  0.17366  ,\n",
       "        1.1232   ,  0.10863  ,  0.55889  ,  0.30799  ,  0.084318 ,\n",
       "       -0.43178  , -0.042287 , -0.054615 ,  0.054712 , -0.80914  ,\n",
       "       -0.2443   , -0.076909 ,  0.55216  , -0.71896  ,  0.83319  ,\n",
       "        0.020735 ,  0.020472 , -0.40279  , -0.28874  ,  0.23758  ,\n",
       "        0.12576  , -0.15165  , -0.6942   , -0.25174  ,  0.29591  ,\n",
       "        0.4029   , -1.0618   ,  0.19847  , -0.63463  , -0.70843  ,\n",
       "        0.067943 ,  0.57366  ,  0.041122 ,  0.17452  ,  0.19431  ,\n",
       "       -0.28641  , -1.1363   ,  0.45116  , -0.066518 ,  0.82615  ,\n",
       "       -0.45452  , -0.85652  ,  0.18105  , -0.24187  ,  0.20153  ,\n",
       "        0.72298  ,  0.17415  , -0.87328  ,  0.69815  ,  0.024706 ,\n",
       "        0.26174  , -0.0087155, -0.39349  ,  0.13801  , -0.39299  ,\n",
       "       -0.23057  , -0.22611  , -0.14407  ,  0.010511 , -0.47389  ,\n",
       "       -0.15645  ,  0.28601  , -0.21772  , -0.49535  ,  0.022209 ,\n",
       "       -0.23575  , -0.22469  , -0.011578 ,  0.52867  , -0.062309 ],\n",
       "      dtype=float32)"
      ]
     },
     "execution_count": 57,
     "metadata": {},
     "output_type": "execute_result"
    }
   ],
   "source": [
    "glove_model['king']"
   ]
  },
  {
   "cell_type": "code",
   "execution_count": 61,
   "id": "dcb5d7bc",
   "metadata": {},
   "outputs": [
    {
     "data": {
      "text/plain": [
       "[('daughter', 0.8648022413253784),\n",
       " ('wife', 0.8568021655082703),\n",
       " ('grandmother', 0.8373793363571167),\n",
       " ('husband', 0.8055646419525146),\n",
       " ('sister', 0.8029242157936096),\n",
       " ('father', 0.7936768531799316),\n",
       " ('her', 0.783749520778656),\n",
       " ('daughters', 0.7589756846427917),\n",
       " ('woman', 0.7579867243766785),\n",
       " ('she', 0.7452898025512695)]"
      ]
     },
     "execution_count": 61,
     "metadata": {},
     "output_type": "execute_result"
    }
   ],
   "source": [
    "glove_model.most_similar('mother')"
   ]
  },
  {
   "cell_type": "code",
   "execution_count": 62,
   "id": "8d01c927",
   "metadata": {},
   "outputs": [
    {
     "data": {
      "text/plain": [
       "[('queen', 0.6978678107261658),\n",
       " ('princess', 0.6081745028495789),\n",
       " ('monarch', 0.5889754891395569),\n",
       " ('throne', 0.5775108933448792),\n",
       " ('prince', 0.5750998258590698),\n",
       " ('elizabeth', 0.5463595986366272),\n",
       " ('daughter', 0.5399126410484314),\n",
       " ('kingdom', 0.5318052768707275),\n",
       " ('mother', 0.5168544054031372),\n",
       " ('crown', 0.5164473056793213)]"
      ]
     },
     "execution_count": 62,
     "metadata": {},
     "output_type": "execute_result"
    }
   ],
   "source": [
    "glove_model.most_similar(positive = ['king', 'woman'], negative = ['man'])\n"
   ]
  },
  {
   "cell_type": "code",
   "execution_count": 66,
   "id": "c3717352",
   "metadata": {},
   "outputs": [
    {
     "data": {
      "text/plain": [
       "[('evening', 0.8015445470809937),\n",
       " ('saturday', 0.766251802444458),\n",
       " ('sunday', 0.766112744808197),\n",
       " ('morning', 0.7611642479896545),\n",
       " ('afternoon', 0.745530366897583),\n",
       " ('weekend', 0.7276031374931335),\n",
       " ('day', 0.7088316082954407),\n",
       " ('friday', 0.6997552514076233),\n",
       " ('nights', 0.6951433420181274),\n",
       " ('hours', 0.69302898645401)]"
      ]
     },
     "execution_count": 66,
     "metadata": {},
     "output_type": "execute_result"
    }
   ],
   "source": [
    "# glove_model.most_similar(positive = ['king', 'woman'], negative = ['man'])\n",
    "glove_model.most_similar('night')"
   ]
  },
  {
   "cell_type": "code",
   "execution_count": 67,
   "id": "f0f71b3c",
   "metadata": {},
   "outputs": [
    {
     "name": "stdout",
     "output_type": "stream",
     "text": [
      "CV scores [0.67696629 0.67262513 0.66905005 0.68633461]\n",
      "Mean F1 0.6762440203403008\n"
     ]
    }
   ],
   "source": [
    "cv_w2vec_transfert = fit_w2v_avg(glove_model)"
   ]
  },
  {
   "cell_type": "code",
   "execution_count": 68,
   "id": "e442d3ac",
   "metadata": {},
   "outputs": [
    {
     "data": {
      "text/html": [
       "<div>\n",
       "<style scoped>\n",
       "    .dataframe tbody tr th:only-of-type {\n",
       "        vertical-align: middle;\n",
       "    }\n",
       "\n",
       "    .dataframe tbody tr th {\n",
       "        vertical-align: top;\n",
       "    }\n",
       "\n",
       "    .dataframe thead th {\n",
       "        text-align: right;\n",
       "    }\n",
       "</style>\n",
       "<table border=\"1\" class=\"dataframe\">\n",
       "  <thead>\n",
       "    <tr style=\"text-align: right;\">\n",
       "      <th></th>\n",
       "      <th>Mean F1 score</th>\n",
       "    </tr>\n",
       "  </thead>\n",
       "  <tbody>\n",
       "    <tr>\n",
       "      <th>TF-IDF</th>\n",
       "      <td>0.742897</td>\n",
       "    </tr>\n",
       "    <tr>\n",
       "      <th>Bag-of-Words</th>\n",
       "      <td>0.678877</td>\n",
       "    </tr>\n",
       "    <tr>\n",
       "      <th>Word2Vec pré-entraîné</th>\n",
       "      <td>0.676244</td>\n",
       "    </tr>\n",
       "    <tr>\n",
       "      <th>Word2Vec non pré-entraîné</th>\n",
       "      <td>0.558131</td>\n",
       "    </tr>\n",
       "  </tbody>\n",
       "</table>\n",
       "</div>"
      ],
      "text/plain": [
       "                           Mean F1 score\n",
       "TF-IDF                          0.742897\n",
       "Bag-of-Words                    0.678877\n",
       "Word2Vec pré-entraîné           0.676244\n",
       "Word2Vec non pré-entraîné       0.558131"
      ]
     },
     "execution_count": 68,
     "metadata": {},
     "output_type": "execute_result"
    }
   ],
   "source": [
    "perfs = pd.DataFrame(\n",
    "    [np.mean(cv_bow.cv_results_['mean_test_score']),\n",
    "     np.mean(cv_tfidf.cv_results_['mean_test_score']),\n",
    "    np.mean(cv_w2vec),\n",
    "    np.mean(cv_w2vec_transfert)],\n",
    "    index = ['Bag-of-Words','TF-IDF', 'Word2Vec non pré-entraîné', 'Word2Vec pré-entraîné'],\n",
    "    columns = [\"Mean F1 score\"]\n",
    ").sort_values(\"Mean F1 score\",ascending = False)\n",
    "perfs\n"
   ]
  },
  {
   "cell_type": "code",
   "execution_count": 69,
   "id": "e7540dbd",
   "metadata": {},
   "outputs": [
    {
     "name": "stderr",
     "output_type": "stream",
     "text": [
      "Downloading: 100%|██████████| 1.18k/1.18k [00:00<00:00, 582kB/s]\n",
      "Downloading: 100%|██████████| 190/190 [00:00<00:00, 95.0kB/s]\n",
      "Downloading: 100%|██████████| 10.6k/10.6k [00:00<00:00, 3.53MB/s]\n",
      "Downloading: 100%|██████████| 571/571 [00:00<00:00, 190kB/s]\n",
      "Downloading: 100%|██████████| 116/116 [00:00<00:00, 11.6kB/s]\n",
      "Downloading: 100%|██████████| 39.3k/39.3k [00:00<00:00, 378kB/s] \n",
      "Downloading: 100%|██████████| 438M/438M [02:02<00:00, 3.56MB/s] \n",
      "Downloading: 100%|██████████| 53.0/53.0 [00:00<00:00, 26.5kB/s]\n",
      "Downloading: 100%|██████████| 239/239 [00:00<00:00, 79.7kB/s]\n",
      "Downloading: 100%|██████████| 466k/466k [00:00<00:00, 1.11MB/s]\n",
      "Downloading: 100%|██████████| 363/363 [00:00<00:00, 181kB/s]\n",
      "Downloading: 100%|██████████| 13.1k/13.1k [00:00<00:00, 170kB/s]\n",
      "Downloading: 100%|██████████| 232k/232k [00:00<00:00, 735kB/s]  \n",
      "Downloading: 100%|██████████| 349/349 [00:00<00:00, 87.2kB/s]\n"
     ]
    }
   ],
   "source": [
    "model = SentenceTransformer('all-mpnet-base-v2')\n"
   ]
  },
  {
   "cell_type": "code",
   "execution_count": 70,
   "id": "9e585443",
   "metadata": {},
   "outputs": [],
   "source": [
    "X_train_vectors = model.encode(X_train)\n"
   ]
  },
  {
   "cell_type": "code",
   "execution_count": 71,
   "id": "c9a94279",
   "metadata": {},
   "outputs": [
    {
     "name": "stdout",
     "output_type": "stream",
     "text": [
      "CV scores [0.75       0.7308478  0.74361593 0.75376756]\n",
      "Mean F1 0.7445578247931987\n"
     ]
    }
   ],
   "source": [
    "scores = cross_val_score(clf, X_train_vectors, y_train, \n",
    "                         cv=4, scoring='f1_micro', n_jobs=4)\n",
    "\n",
    "print(f\"CV scores {scores}\")\n",
    "print(f\"Mean F1 {np.mean(scores)}\")\n"
   ]
  },
  {
   "cell_type": "code",
   "execution_count": 72,
   "id": "d9685193",
   "metadata": {},
   "outputs": [
    {
     "data": {
      "text/html": [
       "<div>\n",
       "<style scoped>\n",
       "    .dataframe tbody tr th:only-of-type {\n",
       "        vertical-align: middle;\n",
       "    }\n",
       "\n",
       "    .dataframe tbody tr th {\n",
       "        vertical-align: top;\n",
       "    }\n",
       "\n",
       "    .dataframe thead th {\n",
       "        text-align: right;\n",
       "    }\n",
       "</style>\n",
       "<table border=\"1\" class=\"dataframe\">\n",
       "  <thead>\n",
       "    <tr style=\"text-align: right;\">\n",
       "      <th></th>\n",
       "      <th>Mean F1 score</th>\n",
       "    </tr>\n",
       "  </thead>\n",
       "  <tbody>\n",
       "    <tr>\n",
       "      <th>Contextual Embedding</th>\n",
       "      <td>0.744558</td>\n",
       "    </tr>\n",
       "    <tr>\n",
       "      <th>TF-IDF</th>\n",
       "      <td>0.742897</td>\n",
       "    </tr>\n",
       "    <tr>\n",
       "      <th>Bag-of-Words</th>\n",
       "      <td>0.678877</td>\n",
       "    </tr>\n",
       "    <tr>\n",
       "      <th>Word2Vec pré-entraîné</th>\n",
       "      <td>0.676244</td>\n",
       "    </tr>\n",
       "    <tr>\n",
       "      <th>Word2Vec non pré-entraîné</th>\n",
       "      <td>0.558131</td>\n",
       "    </tr>\n",
       "  </tbody>\n",
       "</table>\n",
       "</div>"
      ],
      "text/plain": [
       "                           Mean F1 score\n",
       "Contextual Embedding            0.744558\n",
       "TF-IDF                          0.742897\n",
       "Bag-of-Words                    0.678877\n",
       "Word2Vec pré-entraîné           0.676244\n",
       "Word2Vec non pré-entraîné       0.558131"
      ]
     },
     "execution_count": 72,
     "metadata": {},
     "output_type": "execute_result"
    }
   ],
   "source": [
    "perfs = pd.concat(\n",
    "  [perfs,\n",
    "  pd.DataFrame(\n",
    "    [np.mean(scores)],\n",
    "    index = ['Contextual Embedding'],\n",
    "    columns = [\"Mean F1 score\"])]\n",
    ").sort_values(\"Mean F1 score\",ascending = False)\n",
    "perfs\n"
   ]
  },
  {
   "cell_type": "code",
   "execution_count": null,
   "id": "6882c05a",
   "metadata": {},
   "outputs": [],
   "source": []
  }
 ],
 "metadata": {
  "kernelspec": {
   "display_name": "Python 3.9.13 ('nlp': venv)",
   "language": "python",
   "name": "python3"
  },
  "language_info": {
   "codemirror_mode": {
    "name": "ipython",
    "version": 3
   },
   "file_extension": ".py",
   "mimetype": "text/x-python",
   "name": "python",
   "nbconvert_exporter": "python",
   "pygments_lexer": "ipython3",
   "version": "3.9.13"
  },
  "vscode": {
   "interpreter": {
    "hash": "f2cbea589eae7a3a46a0a358816519b81140f2c5f52c17736af325f4b6c61841"
   }
  }
 },
 "nbformat": 4,
 "nbformat_minor": 5
}
