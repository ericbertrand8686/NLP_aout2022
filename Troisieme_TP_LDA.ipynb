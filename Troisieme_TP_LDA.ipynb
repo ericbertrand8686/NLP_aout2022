{
 "cells": [
  {
   "cell_type": "code",
   "execution_count": 1,
   "id": "32d0456a",
   "metadata": {},
   "outputs": [],
   "source": [
    "import numpy as np # linear algebra\n",
    "import pandas as pd # data processing, CSV file I/O (e.g. pd.read_csv)\n",
    "import matplotlib.pyplot as plt\n",
    "from wordcloud import WordCloud\n",
    "#from IPython.display import display\n",
    "import base64\n",
    "import string\n",
    "import re\n",
    "import nltk\n",
    "\n",
    "from collections import Counter\n",
    "from time import time\n",
    "# from sklearn.feature_extraction.stop_words import ENGLISH_STOP_WORDS as stopwords\n",
    "from sklearn.metrics import log_loss\n",
    "import matplotlib.pyplot as plt\n",
    "\n",
    "from nltk.stem import WordNetLemmatizer\n",
    "from sklearn.feature_extraction.text import TfidfVectorizer, CountVectorizer\n",
    "from sklearn.decomposition import LatentDirichletAllocation"
   ]
  },
  {
   "cell_type": "code",
   "execution_count": 2,
   "id": "59342726",
   "metadata": {},
   "outputs": [],
   "source": [
    "url='https://github.com/GU4243-ADS/spring2018-project1-ginnyqg/raw/master/data/spooky.csv'\n",
    "\n",
    "train = pd.read_csv(url,\n",
    "                    encoding='latin-1')\n",
    "train.columns = train.columns.str.capitalize()\n",
    "                    \n",
    "train['ID'] = train['Id'].str.replace(\"id\",\"\")\n",
    "train = train.set_index('Id')"
   ]
  },
  {
   "cell_type": "code",
   "execution_count": 3,
   "id": "307eb9b8",
   "metadata": {},
   "outputs": [
    {
     "name": "stdout",
     "output_type": "stream",
     "text": [
      "                                                      Text Author     ID\n",
      "Id                                                                      \n",
      "id26305  This process, however, afforded me no means of...    EAP  26305\n",
      "id17569  It never once occurred to me that the fumbling...    HPL  17569\n",
      "id11008  In his left hand was a gold snuff box, from wh...    EAP  11008\n",
      "id27763  How lovely is spring As we looked from Windsor...    MWS  27763\n",
      "id12958  Finding nothing else, not even gold, the Super...    HPL  12958\n",
      "...                                                    ...    ...    ...\n",
      "id17718  I could have fancied, while I looked at it, th...    EAP  17718\n",
      "id08973  The lids clenched themselves together as if in...    EAP  08973\n",
      "id05267  Mais il faut agir that is to say, a Frenchman ...    EAP  05267\n",
      "id17513  For an item of news like this, it strikes us i...    EAP  17513\n",
      "id00393  He laid a gnarled claw on my shoulder, and it ...    HPL  00393\n",
      "\n",
      "[19579 rows x 3 columns]\n"
     ]
    }
   ],
   "source": [
    "print(train)"
   ]
  },
  {
   "cell_type": "code",
   "execution_count": 4,
   "id": "ed71ae58",
   "metadata": {},
   "outputs": [
    {
     "data": {
      "text/html": [
       "<div>\n",
       "<style scoped>\n",
       "    .dataframe tbody tr th:only-of-type {\n",
       "        vertical-align: middle;\n",
       "    }\n",
       "\n",
       "    .dataframe tbody tr th {\n",
       "        vertical-align: top;\n",
       "    }\n",
       "\n",
       "    .dataframe thead th {\n",
       "        text-align: right;\n",
       "    }\n",
       "</style>\n",
       "<table border=\"1\" class=\"dataframe\">\n",
       "  <thead>\n",
       "    <tr style=\"text-align: right;\">\n",
       "      <th></th>\n",
       "      <th>Text</th>\n",
       "      <th>Author</th>\n",
       "      <th>ID</th>\n",
       "    </tr>\n",
       "    <tr>\n",
       "      <th>Id</th>\n",
       "      <th></th>\n",
       "      <th></th>\n",
       "      <th></th>\n",
       "    </tr>\n",
       "  </thead>\n",
       "  <tbody>\n",
       "    <tr>\n",
       "      <th>id26305</th>\n",
       "      <td>This process, however, afforded me no means of...</td>\n",
       "      <td>EAP</td>\n",
       "      <td>26305</td>\n",
       "    </tr>\n",
       "    <tr>\n",
       "      <th>id17569</th>\n",
       "      <td>It never once occurred to me that the fumbling...</td>\n",
       "      <td>HPL</td>\n",
       "      <td>17569</td>\n",
       "    </tr>\n",
       "    <tr>\n",
       "      <th>id11008</th>\n",
       "      <td>In his left hand was a gold snuff box, from wh...</td>\n",
       "      <td>EAP</td>\n",
       "      <td>11008</td>\n",
       "    </tr>\n",
       "    <tr>\n",
       "      <th>id27763</th>\n",
       "      <td>How lovely is spring As we looked from Windsor...</td>\n",
       "      <td>MWS</td>\n",
       "      <td>27763</td>\n",
       "    </tr>\n",
       "    <tr>\n",
       "      <th>id12958</th>\n",
       "      <td>Finding nothing else, not even gold, the Super...</td>\n",
       "      <td>HPL</td>\n",
       "      <td>12958</td>\n",
       "    </tr>\n",
       "  </tbody>\n",
       "</table>\n",
       "</div>"
      ],
      "text/plain": [
       "                                                      Text Author     ID\n",
       "Id                                                                      \n",
       "id26305  This process, however, afforded me no means of...    EAP  26305\n",
       "id17569  It never once occurred to me that the fumbling...    HPL  17569\n",
       "id11008  In his left hand was a gold snuff box, from wh...    EAP  11008\n",
       "id27763  How lovely is spring As we looked from Windsor...    MWS  27763\n",
       "id12958  Finding nothing else, not even gold, the Super...    HPL  12958"
      ]
     },
     "execution_count": 4,
     "metadata": {},
     "output_type": "execute_result"
    }
   ],
   "source": [
    "train.head()"
   ]
  },
  {
   "cell_type": "code",
   "execution_count": 5,
   "id": "192830c5",
   "metadata": {},
   "outputs": [
    {
     "name": "stdout",
     "output_type": "stream",
     "text": [
      "<pandas.core.groupby.generic.DataFrameGroupBy object at 0x0000028B25847CD0>\n"
     ]
    }
   ],
   "source": [
    "print(train.groupby([\"ID\",\"Author\"]))"
   ]
  },
  {
   "cell_type": "code",
   "execution_count": 6,
   "id": "3c0cbd5b",
   "metadata": {},
   "outputs": [
    {
     "name": "stdout",
     "output_type": "stream",
     "text": [
      "ID     Author\n",
      "00001  MWS       [Idris, was, well, content, with, this, resolv...\n",
      "00002  HPL       [I, was, faint, even, fainter, than, the, hate...\n",
      "00003  EAP       [Above, all, I, burn, to, know, the, incidents...\n",
      "00004  EAP       [He, might, see, perhaps, one, or, two, points...\n",
      "00005  MWS       [All, obeyed, the, Lord, Protector, of, dying,...\n",
      "                                       ...                        \n",
      "27965  HPL       [Arter, I, got, the, book, off, Eb, I, uster, ...\n",
      "27966  EAP       [I, still, lay, quietly, and, made, effort, to...\n",
      "27967  EAP       [The, ultimate, body, thus, escapes, our, rudi...\n",
      "27968  MWS       [The, next, morning, Felix, went, out, to, his...\n",
      "27971  MWS       [I, found, myself, similar, yet, at, the, same...\n",
      "Length: 19579, dtype: object\n"
     ]
    },
    {
     "data": {
      "text/html": [
       "<div>\n",
       "<style scoped>\n",
       "    .dataframe tbody tr th:only-of-type {\n",
       "        vertical-align: middle;\n",
       "    }\n",
       "\n",
       "    .dataframe tbody tr th {\n",
       "        vertical-align: top;\n",
       "    }\n",
       "\n",
       "    .dataframe thead th {\n",
       "        text-align: right;\n",
       "    }\n",
       "</style>\n",
       "<table border=\"1\" class=\"dataframe\">\n",
       "  <thead>\n",
       "    <tr style=\"text-align: right;\">\n",
       "      <th></th>\n",
       "      <th>ID</th>\n",
       "      <th>Author</th>\n",
       "      <th>tokenized</th>\n",
       "    </tr>\n",
       "  </thead>\n",
       "  <tbody>\n",
       "    <tr>\n",
       "      <th>0</th>\n",
       "      <td>00001</td>\n",
       "      <td>MWS</td>\n",
       "      <td>[Idris, well, content, resolve, mine]</td>\n",
       "    </tr>\n",
       "    <tr>\n",
       "      <th>1</th>\n",
       "      <td>00002</td>\n",
       "      <td>HPL</td>\n",
       "      <td>[I, faint, even, fainter, hateful, modernity, ...</td>\n",
       "    </tr>\n",
       "  </tbody>\n",
       "</table>\n",
       "</div>"
      ],
      "text/plain": [
       "      ID Author                                          tokenized\n",
       "0  00001    MWS              [Idris, well, content, resolve, mine]\n",
       "1  00002    HPL  [I, faint, even, fainter, hateful, modernity, ..."
      ]
     },
     "execution_count": 6,
     "metadata": {},
     "output_type": "execute_result"
    }
   ],
   "source": [
    "lemma = WordNetLemmatizer()\n",
    "\n",
    "train_clean = (train\n",
    "    .groupby([\"ID\",\"Author\"])\n",
    "    .apply(lambda s: nltk.word_tokenize(' '.join(s['Text'])))\n",
    "    .apply(lambda words: [word for word in words if word.isalpha()])\n",
    ")\n",
    "print(train_clean)\n",
    "from nltk.corpus import stopwords  \n",
    "stop_words = set(stopwords.words('english'))\n",
    "\n",
    "train_clean = (train_clean\n",
    "    .apply(lambda words: [lemma.lemmatize(w) for w in words if not w in stop_words])\n",
    "    .reset_index(name='tokenized')\n",
    ")\n",
    "\n",
    "train_clean.head(2)"
   ]
  },
  {
   "cell_type": "code",
   "execution_count": 7,
   "id": "7eec9537",
   "metadata": {},
   "outputs": [],
   "source": [
    "corpus = train_clean[train_clean[\"Author\"] == \"EAP\"]"
   ]
  },
  {
   "cell_type": "code",
   "execution_count": 8,
   "id": "575236ae",
   "metadata": {},
   "outputs": [
    {
     "data": {
      "text/html": [
       "<style>#sk-container-id-1 {color: black;background-color: white;}#sk-container-id-1 pre{padding: 0;}#sk-container-id-1 div.sk-toggleable {background-color: white;}#sk-container-id-1 label.sk-toggleable__label {cursor: pointer;display: block;width: 100%;margin-bottom: 0;padding: 0.3em;box-sizing: border-box;text-align: center;}#sk-container-id-1 label.sk-toggleable__label-arrow:before {content: \"▸\";float: left;margin-right: 0.25em;color: #696969;}#sk-container-id-1 label.sk-toggleable__label-arrow:hover:before {color: black;}#sk-container-id-1 div.sk-estimator:hover label.sk-toggleable__label-arrow:before {color: black;}#sk-container-id-1 div.sk-toggleable__content {max-height: 0;max-width: 0;overflow: hidden;text-align: left;background-color: #f0f8ff;}#sk-container-id-1 div.sk-toggleable__content pre {margin: 0.2em;color: black;border-radius: 0.25em;background-color: #f0f8ff;}#sk-container-id-1 input.sk-toggleable__control:checked~div.sk-toggleable__content {max-height: 200px;max-width: 100%;overflow: auto;}#sk-container-id-1 input.sk-toggleable__control:checked~label.sk-toggleable__label-arrow:before {content: \"▾\";}#sk-container-id-1 div.sk-estimator input.sk-toggleable__control:checked~label.sk-toggleable__label {background-color: #d4ebff;}#sk-container-id-1 div.sk-label input.sk-toggleable__control:checked~label.sk-toggleable__label {background-color: #d4ebff;}#sk-container-id-1 input.sk-hidden--visually {border: 0;clip: rect(1px 1px 1px 1px);clip: rect(1px, 1px, 1px, 1px);height: 1px;margin: -1px;overflow: hidden;padding: 0;position: absolute;width: 1px;}#sk-container-id-1 div.sk-estimator {font-family: monospace;background-color: #f0f8ff;border: 1px dotted black;border-radius: 0.25em;box-sizing: border-box;margin-bottom: 0.5em;}#sk-container-id-1 div.sk-estimator:hover {background-color: #d4ebff;}#sk-container-id-1 div.sk-parallel-item::after {content: \"\";width: 100%;border-bottom: 1px solid gray;flex-grow: 1;}#sk-container-id-1 div.sk-label:hover label.sk-toggleable__label {background-color: #d4ebff;}#sk-container-id-1 div.sk-serial::before {content: \"\";position: absolute;border-left: 1px solid gray;box-sizing: border-box;top: 0;bottom: 0;left: 50%;z-index: 0;}#sk-container-id-1 div.sk-serial {display: flex;flex-direction: column;align-items: center;background-color: white;padding-right: 0.2em;padding-left: 0.2em;position: relative;}#sk-container-id-1 div.sk-item {position: relative;z-index: 1;}#sk-container-id-1 div.sk-parallel {display: flex;align-items: stretch;justify-content: center;background-color: white;position: relative;}#sk-container-id-1 div.sk-item::before, #sk-container-id-1 div.sk-parallel-item::before {content: \"\";position: absolute;border-left: 1px solid gray;box-sizing: border-box;top: 0;bottom: 0;left: 50%;z-index: -1;}#sk-container-id-1 div.sk-parallel-item {display: flex;flex-direction: column;z-index: 1;position: relative;background-color: white;}#sk-container-id-1 div.sk-parallel-item:first-child::after {align-self: flex-end;width: 50%;}#sk-container-id-1 div.sk-parallel-item:last-child::after {align-self: flex-start;width: 50%;}#sk-container-id-1 div.sk-parallel-item:only-child::after {width: 0;}#sk-container-id-1 div.sk-dashed-wrapped {border: 1px dashed gray;margin: 0 0.4em 0.5em 0.4em;box-sizing: border-box;padding-bottom: 0.4em;background-color: white;}#sk-container-id-1 div.sk-label label {font-family: monospace;font-weight: bold;display: inline-block;line-height: 1.2em;}#sk-container-id-1 div.sk-label-container {text-align: center;}#sk-container-id-1 div.sk-container {/* jupyter's `normalize.less` sets `[hidden] { display: none; }` but bootstrap.min.css set `[hidden] { display: none !important; }` so we also need the `!important` here to be able to override the default hidden behavior on the sphinx rendered scikit-learn.org. See: https://github.com/scikit-learn/scikit-learn/issues/21755 */display: inline-block !important;position: relative;}#sk-container-id-1 div.sk-text-repr-fallback {display: none;}</style><div id=\"sk-container-id-1\" class=\"sk-top-container\"><div class=\"sk-text-repr-fallback\"><pre>LatentDirichletAllocation(learning_method=&#x27;online&#x27;, learning_offset=50.0,\n",
       "                          max_iter=5, n_components=11, n_jobs=1,\n",
       "                          random_state=0)</pre><b>In a Jupyter environment, please rerun this cell to show the HTML representation or trust the notebook. <br />On GitHub, the HTML representation is unable to render, please try loading this page with nbviewer.org.</b></div><div class=\"sk-container\" hidden><div class=\"sk-item\"><div class=\"sk-estimator sk-toggleable\"><input class=\"sk-toggleable__control sk-hidden--visually\" id=\"sk-estimator-id-1\" type=\"checkbox\" checked><label for=\"sk-estimator-id-1\" class=\"sk-toggleable__label sk-toggleable__label-arrow\">LatentDirichletAllocation</label><div class=\"sk-toggleable__content\"><pre>LatentDirichletAllocation(learning_method=&#x27;online&#x27;, learning_offset=50.0,\n",
       "                          max_iter=5, n_components=11, n_jobs=1,\n",
       "                          random_state=0)</pre></div></div></div></div></div>"
      ],
      "text/plain": [
       "LatentDirichletAllocation(learning_method='online', learning_offset=50.0,\n",
       "                          max_iter=5, n_components=11, n_jobs=1,\n",
       "                          random_state=0)"
      ]
     },
     "execution_count": 8,
     "metadata": {},
     "output_type": "execute_result"
    }
   ],
   "source": [
    "from sklearn.feature_extraction.text import CountVectorizer\n",
    "from sklearn.decomposition import LatentDirichletAllocation\n",
    "\n",
    "# Initialise the count vectorizer with the English stop words\n",
    "count_vectorizer = CountVectorizer(stop_words='english')# Fit and transform the processed titles\n",
    "count_data = count_vectorizer.fit_transform(corpus['tokenized'].apply(lambda s: ' '.join(s)))\n",
    "\n",
    "\n",
    "number_topics = 11\n",
    "# Create and fit the LDA model\n",
    "lda = LatentDirichletAllocation(n_components=number_topics, max_iter=5,\n",
    "                                learning_method = 'online',\n",
    "                                learning_offset = 50.,\n",
    "                                random_state = 0,\n",
    "                                n_jobs = 1)\n",
    "lda.fit(count_data)"
   ]
  },
  {
   "cell_type": "code",
   "execution_count": 9,
   "id": "0376bd59",
   "metadata": {},
   "outputs": [
    {
     "name": "stdout",
     "output_type": "stream",
     "text": [
      "[[0.09106879 0.90168427 0.09107049 ... 0.09103489 2.25973382 1.03750852]\n",
      " [0.0910431  0.09105079 0.09102889 ... 0.09104547 0.0910583  0.09103278]\n",
      " [0.80614144 0.09113431 0.09106276 ... 0.09152101 0.09105682 0.09102169]\n",
      " ...\n",
      " [0.09104864 0.09102604 0.09113256 ... 0.93598722 0.09104342 0.09475499]\n",
      " [0.09103607 0.09117965 0.09105287 ... 0.09102179 0.09102504 0.09102363]\n",
      " [0.09132759 0.09107547 0.09104532 ... 0.09153208 0.09105121 0.09103602]]\n"
     ]
    }
   ],
   "source": [
    "print(lda.components_)"
   ]
  },
  {
   "cell_type": "code",
   "execution_count": 16,
   "id": "ffaf454a",
   "metadata": {},
   "outputs": [
    {
     "name": "stdout",
     "output_type": "stream",
     "text": [
      "11\n",
      "13396\n"
     ]
    }
   ],
   "source": [
    "print(len(lda.components_))\n",
    "print(len(lda.components_[0]))"
   ]
  },
  {
   "cell_type": "code",
   "execution_count": 21,
   "id": "c82ca2d7",
   "metadata": {},
   "outputs": [
    {
     "name": "stdout",
     "output_type": "stream",
     "text": [
      "(7900, 13396)\n"
     ]
    }
   ],
   "source": [
    "print(count_data.shape)"
   ]
  },
  {
   "cell_type": "code",
   "execution_count": 41,
   "id": "72d0ade6",
   "metadata": {},
   "outputs": [
    {
     "data": {
      "text/plain": [
       "{'n_components': 11,\n",
       " 'doc_topic_prior': None,\n",
       " 'topic_word_prior': None,\n",
       " 'learning_method': 'online',\n",
       " 'learning_decay': 0.7,\n",
       " 'learning_offset': 50.0,\n",
       " 'max_iter': 5,\n",
       " 'batch_size': 128,\n",
       " 'evaluate_every': -1,\n",
       " 'total_samples': 1000000.0,\n",
       " 'perp_tol': 0.1,\n",
       " 'mean_change_tol': 0.001,\n",
       " 'max_doc_update_iter': 100,\n",
       " 'n_jobs': 1,\n",
       " 'verbose': 0,\n",
       " 'random_state': 0,\n",
       " 'n_features_in_': 13396,\n",
       " 'random_state_': RandomState(MT19937) at 0x28B40FC1E40,\n",
       " 'n_batch_iter_': 311,\n",
       " 'n_iter_': 5,\n",
       " 'doc_topic_prior_': 0.09090909090909091,\n",
       " 'topic_word_prior_': 0.09090909090909091,\n",
       " 'components_': array([[0.09106879, 0.90168427, 0.09107049, ..., 0.09103489, 2.25973382,\n",
       "         1.03750852],\n",
       "        [0.0910431 , 0.09105079, 0.09102889, ..., 0.09104547, 0.0910583 ,\n",
       "         0.09103278],\n",
       "        [0.80614144, 0.09113431, 0.09106276, ..., 0.09152101, 0.09105682,\n",
       "         0.09102169],\n",
       "        ...,\n",
       "        [0.09104864, 0.09102604, 0.09113256, ..., 0.93598722, 0.09104342,\n",
       "         0.09475499],\n",
       "        [0.09103607, 0.09117965, 0.09105287, ..., 0.09102179, 0.09102504,\n",
       "         0.09102363],\n",
       "        [0.09132759, 0.09107547, 0.09104532, ..., 0.09153208, 0.09105121,\n",
       "         0.09103602]]),\n",
       " 'exp_dirichlet_component_': array([[2.60818094e-09, 1.11781381e-04, 2.60872209e-09, ...,\n",
       "         2.59740877e-09, 4.22502545e-04, 1.41328328e-04],\n",
       "        [2.65508855e-09, 2.65758217e-09, 2.65048599e-09, ...,\n",
       "         2.65585699e-09, 2.66002001e-09, 2.65174484e-09],\n",
       "        [2.24510471e-05, 6.44494281e-10, 6.38895187e-10, ...,\n",
       "         6.75456409e-10, 6.38432340e-10, 6.35699518e-10],\n",
       "        ...,\n",
       "        [3.04813733e-09, 3.03973963e-09, 3.07949921e-09, ...,\n",
       "         1.39607605e-04, 3.04619492e-09, 4.70911136e-09],\n",
       "        [1.86838644e-09, 1.90138181e-09, 1.87222259e-09, ...,\n",
       "         1.86513036e-09, 1.86587110e-09, 1.86554897e-09],\n",
       "        [1.36213581e-09, 1.32098497e-09, 1.31613322e-09, ...,\n",
       "         1.39628129e-09, 1.31707871e-09, 1.31463952e-09]]),\n",
       " 'bound_': 9447.526855190592,\n",
       " '_sklearn_version': '1.1.2'}"
      ]
     },
     "execution_count": 41,
     "metadata": {},
     "output_type": "execute_result"
    }
   ],
   "source": [
    "lda.__getstate__()"
   ]
  }
 ],
 "metadata": {
  "kernelspec": {
   "display_name": "Python 3.9.13 ('nlp': venv)",
   "language": "python",
   "name": "python3"
  },
  "language_info": {
   "codemirror_mode": {
    "name": "ipython",
    "version": 3
   },
   "file_extension": ".py",
   "mimetype": "text/x-python",
   "name": "python",
   "nbconvert_exporter": "python",
   "pygments_lexer": "ipython3",
   "version": "3.9.13"
  },
  "vscode": {
   "interpreter": {
    "hash": "f2cbea589eae7a3a46a0a358816519b81140f2c5f52c17736af325f4b6c61841"
   }
  }
 },
 "nbformat": 4,
 "nbformat_minor": 5
}
